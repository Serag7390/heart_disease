{
 "cells": [
  {
   "cell_type": "code",
   "execution_count": 1,
   "id": "65e38e49-f843-4f39-8ef9-47c48c3f37ad",
   "metadata": {},
   "outputs": [],
   "source": [
    "import pandas as pd \n",
    "from matplotlib import pyplot as plt\n",
    "import seaborn as sns\n",
    "import numpy as np"
   ]
  },
  {
   "cell_type": "code",
   "execution_count": 2,
   "id": "26d24a88-4af1-4edd-9ba2-caa64c25485a",
   "metadata": {},
   "outputs": [
    {
     "name": "stdout",
     "output_type": "stream",
     "text": [
      "<class 'pandas.core.frame.DataFrame'>\n",
      "RangeIndex: 920 entries, 0 to 919\n",
      "Data columns (total 16 columns):\n",
      " #   Column    Non-Null Count  Dtype  \n",
      "---  ------    --------------  -----  \n",
      " 0   id        920 non-null    int64  \n",
      " 1   age       920 non-null    int64  \n",
      " 2   sex       920 non-null    object \n",
      " 3   dataset   920 non-null    object \n",
      " 4   cp        920 non-null    object \n",
      " 5   trestbps  861 non-null    float64\n",
      " 6   chol      890 non-null    float64\n",
      " 7   fbs       830 non-null    object \n",
      " 8   restecg   918 non-null    object \n",
      " 9   thalch    865 non-null    float64\n",
      " 10  exang     865 non-null    object \n",
      " 11  oldpeak   858 non-null    float64\n",
      " 12  slope     611 non-null    object \n",
      " 13  ca        309 non-null    float64\n",
      " 14  thal      434 non-null    object \n",
      " 15  num       920 non-null    int64  \n",
      "dtypes: float64(5), int64(3), object(8)\n",
      "memory usage: 115.1+ KB\n"
     ]
    }
   ],
   "source": [
    "df = pd.read_csv('heart_disease_uci.csv')\n",
    "df.info()"
   ]
  },
  {
   "cell_type": "code",
   "execution_count": 3,
   "id": "ad4c6622-5d1d-4e4c-a2da-c5201e6c6d2c",
   "metadata": {},
   "outputs": [
    {
     "data": {
      "text/html": [
       "<div>\n",
       "<style scoped>\n",
       "    .dataframe tbody tr th:only-of-type {\n",
       "        vertical-align: middle;\n",
       "    }\n",
       "\n",
       "    .dataframe tbody tr th {\n",
       "        vertical-align: top;\n",
       "    }\n",
       "\n",
       "    .dataframe thead th {\n",
       "        text-align: right;\n",
       "    }\n",
       "</style>\n",
       "<table border=\"1\" class=\"dataframe\">\n",
       "  <thead>\n",
       "    <tr style=\"text-align: right;\">\n",
       "      <th></th>\n",
       "      <th>id</th>\n",
       "      <th>age</th>\n",
       "      <th>sex</th>\n",
       "      <th>dataset</th>\n",
       "      <th>cp</th>\n",
       "      <th>trestbps</th>\n",
       "      <th>chol</th>\n",
       "      <th>fbs</th>\n",
       "      <th>restecg</th>\n",
       "      <th>thalch</th>\n",
       "      <th>exang</th>\n",
       "      <th>oldpeak</th>\n",
       "      <th>slope</th>\n",
       "      <th>ca</th>\n",
       "      <th>thal</th>\n",
       "      <th>num</th>\n",
       "    </tr>\n",
       "  </thead>\n",
       "  <tbody>\n",
       "    <tr>\n",
       "      <th>0</th>\n",
       "      <td>1</td>\n",
       "      <td>63</td>\n",
       "      <td>Male</td>\n",
       "      <td>Cleveland</td>\n",
       "      <td>typical angina</td>\n",
       "      <td>145.0</td>\n",
       "      <td>233.0</td>\n",
       "      <td>True</td>\n",
       "      <td>lv hypertrophy</td>\n",
       "      <td>150.0</td>\n",
       "      <td>False</td>\n",
       "      <td>2.3</td>\n",
       "      <td>downsloping</td>\n",
       "      <td>0.0</td>\n",
       "      <td>fixed defect</td>\n",
       "      <td>0</td>\n",
       "    </tr>\n",
       "    <tr>\n",
       "      <th>1</th>\n",
       "      <td>2</td>\n",
       "      <td>67</td>\n",
       "      <td>Male</td>\n",
       "      <td>Cleveland</td>\n",
       "      <td>asymptomatic</td>\n",
       "      <td>160.0</td>\n",
       "      <td>286.0</td>\n",
       "      <td>False</td>\n",
       "      <td>lv hypertrophy</td>\n",
       "      <td>108.0</td>\n",
       "      <td>True</td>\n",
       "      <td>1.5</td>\n",
       "      <td>flat</td>\n",
       "      <td>3.0</td>\n",
       "      <td>normal</td>\n",
       "      <td>2</td>\n",
       "    </tr>\n",
       "    <tr>\n",
       "      <th>2</th>\n",
       "      <td>3</td>\n",
       "      <td>67</td>\n",
       "      <td>Male</td>\n",
       "      <td>Cleveland</td>\n",
       "      <td>asymptomatic</td>\n",
       "      <td>120.0</td>\n",
       "      <td>229.0</td>\n",
       "      <td>False</td>\n",
       "      <td>lv hypertrophy</td>\n",
       "      <td>129.0</td>\n",
       "      <td>True</td>\n",
       "      <td>2.6</td>\n",
       "      <td>flat</td>\n",
       "      <td>2.0</td>\n",
       "      <td>reversable defect</td>\n",
       "      <td>1</td>\n",
       "    </tr>\n",
       "    <tr>\n",
       "      <th>3</th>\n",
       "      <td>4</td>\n",
       "      <td>37</td>\n",
       "      <td>Male</td>\n",
       "      <td>Cleveland</td>\n",
       "      <td>non-anginal</td>\n",
       "      <td>130.0</td>\n",
       "      <td>250.0</td>\n",
       "      <td>False</td>\n",
       "      <td>normal</td>\n",
       "      <td>187.0</td>\n",
       "      <td>False</td>\n",
       "      <td>3.5</td>\n",
       "      <td>downsloping</td>\n",
       "      <td>0.0</td>\n",
       "      <td>normal</td>\n",
       "      <td>0</td>\n",
       "    </tr>\n",
       "    <tr>\n",
       "      <th>4</th>\n",
       "      <td>5</td>\n",
       "      <td>41</td>\n",
       "      <td>Female</td>\n",
       "      <td>Cleveland</td>\n",
       "      <td>atypical angina</td>\n",
       "      <td>130.0</td>\n",
       "      <td>204.0</td>\n",
       "      <td>False</td>\n",
       "      <td>lv hypertrophy</td>\n",
       "      <td>172.0</td>\n",
       "      <td>False</td>\n",
       "      <td>1.4</td>\n",
       "      <td>upsloping</td>\n",
       "      <td>0.0</td>\n",
       "      <td>normal</td>\n",
       "      <td>0</td>\n",
       "    </tr>\n",
       "  </tbody>\n",
       "</table>\n",
       "</div>"
      ],
      "text/plain": [
       "   id  age     sex    dataset               cp  trestbps   chol    fbs  \\\n",
       "0   1   63    Male  Cleveland   typical angina     145.0  233.0   True   \n",
       "1   2   67    Male  Cleveland     asymptomatic     160.0  286.0  False   \n",
       "2   3   67    Male  Cleveland     asymptomatic     120.0  229.0  False   \n",
       "3   4   37    Male  Cleveland      non-anginal     130.0  250.0  False   \n",
       "4   5   41  Female  Cleveland  atypical angina     130.0  204.0  False   \n",
       "\n",
       "          restecg  thalch  exang  oldpeak        slope   ca  \\\n",
       "0  lv hypertrophy   150.0  False      2.3  downsloping  0.0   \n",
       "1  lv hypertrophy   108.0   True      1.5         flat  3.0   \n",
       "2  lv hypertrophy   129.0   True      2.6         flat  2.0   \n",
       "3          normal   187.0  False      3.5  downsloping  0.0   \n",
       "4  lv hypertrophy   172.0  False      1.4    upsloping  0.0   \n",
       "\n",
       "                thal  num  \n",
       "0       fixed defect    0  \n",
       "1             normal    2  \n",
       "2  reversable defect    1  \n",
       "3             normal    0  \n",
       "4             normal    0  "
      ]
     },
     "execution_count": 3,
     "metadata": {},
     "output_type": "execute_result"
    }
   ],
   "source": [
    "df.head()"
   ]
  },
  {
   "cell_type": "code",
   "execution_count": 4,
   "id": "7c1daedd-6b8f-46c4-95e1-d3438bae3a00",
   "metadata": {},
   "outputs": [
    {
     "data": {
      "text/plain": [
       "id            0\n",
       "age           0\n",
       "sex           0\n",
       "dataset       0\n",
       "cp            0\n",
       "trestbps     59\n",
       "chol         30\n",
       "fbs          90\n",
       "restecg       2\n",
       "thalch       55\n",
       "exang        55\n",
       "oldpeak      62\n",
       "slope       309\n",
       "ca          611\n",
       "thal        486\n",
       "num           0\n",
       "dtype: int64"
      ]
     },
     "execution_count": 4,
     "metadata": {},
     "output_type": "execute_result"
    }
   ],
   "source": [
    "df.isnull().sum()"
   ]
  },
  {
   "cell_type": "code",
   "execution_count": 5,
   "id": "6d2103b6-8c2d-4708-bf0b-fd69324fa936",
   "metadata": {},
   "outputs": [
    {
     "data": {
      "text/plain": [
       "191.19565217391303"
      ]
     },
     "execution_count": 5,
     "metadata": {},
     "output_type": "execute_result"
    }
   ],
   "source": [
    "(df.isnull().sum().sum())/len(df) * 100"
   ]
  },
  {
   "cell_type": "code",
   "execution_count": 6,
   "id": "38e72767-48eb-4554-9254-4e5d84bb605c",
   "metadata": {},
   "outputs": [],
   "source": [
    "df.dropna(subset=['fbs', 'exang'], inplace=True)\n",
    "\n",
    "df = df[df['chol'] != 0]\n",
    "df = df[df['chol'] <= 500]\n",
    "\n"
   ]
  },
  {
   "cell_type": "code",
   "execution_count": 7,
   "id": "b525ec5b-4771-451c-82c5-3c7e4bbd7e54",
   "metadata": {},
   "outputs": [
    {
     "data": {
      "text/html": [
       "<div>\n",
       "<style scoped>\n",
       "    .dataframe tbody tr th:only-of-type {\n",
       "        vertical-align: middle;\n",
       "    }\n",
       "\n",
       "    .dataframe tbody tr th {\n",
       "        vertical-align: top;\n",
       "    }\n",
       "\n",
       "    .dataframe thead th {\n",
       "        text-align: right;\n",
       "    }\n",
       "</style>\n",
       "<table border=\"1\" class=\"dataframe\">\n",
       "  <thead>\n",
       "    <tr style=\"text-align: right;\">\n",
       "      <th></th>\n",
       "      <th>id</th>\n",
       "      <th>age</th>\n",
       "      <th>trestbps</th>\n",
       "      <th>chol</th>\n",
       "      <th>thalch</th>\n",
       "      <th>oldpeak</th>\n",
       "      <th>ca</th>\n",
       "      <th>num</th>\n",
       "    </tr>\n",
       "  </thead>\n",
       "  <tbody>\n",
       "    <tr>\n",
       "      <th>count</th>\n",
       "      <td>662.000000</td>\n",
       "      <td>662.000000</td>\n",
       "      <td>661.000000</td>\n",
       "      <td>662.000000</td>\n",
       "      <td>662.000000</td>\n",
       "      <td>659.000000</td>\n",
       "      <td>301.000000</td>\n",
       "      <td>662.000000</td>\n",
       "    </tr>\n",
       "    <tr>\n",
       "      <th>mean</th>\n",
       "      <td>373.583082</td>\n",
       "      <td>52.655589</td>\n",
       "      <td>132.804841</td>\n",
       "      <td>244.409366</td>\n",
       "      <td>141.268882</td>\n",
       "      <td>0.911836</td>\n",
       "      <td>0.667774</td>\n",
       "      <td>0.818731</td>\n",
       "    </tr>\n",
       "    <tr>\n",
       "      <th>std</th>\n",
       "      <td>253.714496</td>\n",
       "      <td>9.412988</td>\n",
       "      <td>17.830083</td>\n",
       "      <td>52.482488</td>\n",
       "      <td>25.072908</td>\n",
       "      <td>1.105202</td>\n",
       "      <td>0.935908</td>\n",
       "      <td>1.087856</td>\n",
       "    </tr>\n",
       "    <tr>\n",
       "      <th>min</th>\n",
       "      <td>1.000000</td>\n",
       "      <td>28.000000</td>\n",
       "      <td>92.000000</td>\n",
       "      <td>85.000000</td>\n",
       "      <td>69.000000</td>\n",
       "      <td>0.000000</td>\n",
       "      <td>0.000000</td>\n",
       "      <td>0.000000</td>\n",
       "    </tr>\n",
       "    <tr>\n",
       "      <th>25%</th>\n",
       "      <td>167.250000</td>\n",
       "      <td>46.000000</td>\n",
       "      <td>120.000000</td>\n",
       "      <td>209.250000</td>\n",
       "      <td>122.250000</td>\n",
       "      <td>0.000000</td>\n",
       "      <td>0.000000</td>\n",
       "      <td>0.000000</td>\n",
       "    </tr>\n",
       "    <tr>\n",
       "      <th>50%</th>\n",
       "      <td>335.000000</td>\n",
       "      <td>54.000000</td>\n",
       "      <td>130.000000</td>\n",
       "      <td>239.000000</td>\n",
       "      <td>143.000000</td>\n",
       "      <td>0.500000</td>\n",
       "      <td>0.000000</td>\n",
       "      <td>0.000000</td>\n",
       "    </tr>\n",
       "    <tr>\n",
       "      <th>75%</th>\n",
       "      <td>524.750000</td>\n",
       "      <td>59.000000</td>\n",
       "      <td>140.000000</td>\n",
       "      <td>275.000000</td>\n",
       "      <td>160.000000</td>\n",
       "      <td>1.500000</td>\n",
       "      <td>1.000000</td>\n",
       "      <td>1.000000</td>\n",
       "    </tr>\n",
       "    <tr>\n",
       "      <th>max</th>\n",
       "      <td>920.000000</td>\n",
       "      <td>77.000000</td>\n",
       "      <td>200.000000</td>\n",
       "      <td>491.000000</td>\n",
       "      <td>202.000000</td>\n",
       "      <td>6.200000</td>\n",
       "      <td>3.000000</td>\n",
       "      <td>4.000000</td>\n",
       "    </tr>\n",
       "  </tbody>\n",
       "</table>\n",
       "</div>"
      ],
      "text/plain": [
       "               id         age    trestbps        chol      thalch     oldpeak  \\\n",
       "count  662.000000  662.000000  661.000000  662.000000  662.000000  659.000000   \n",
       "mean   373.583082   52.655589  132.804841  244.409366  141.268882    0.911836   \n",
       "std    253.714496    9.412988   17.830083   52.482488   25.072908    1.105202   \n",
       "min      1.000000   28.000000   92.000000   85.000000   69.000000    0.000000   \n",
       "25%    167.250000   46.000000  120.000000  209.250000  122.250000    0.000000   \n",
       "50%    335.000000   54.000000  130.000000  239.000000  143.000000    0.500000   \n",
       "75%    524.750000   59.000000  140.000000  275.000000  160.000000    1.500000   \n",
       "max    920.000000   77.000000  200.000000  491.000000  202.000000    6.200000   \n",
       "\n",
       "               ca         num  \n",
       "count  301.000000  662.000000  \n",
       "mean     0.667774    0.818731  \n",
       "std      0.935908    1.087856  \n",
       "min      0.000000    0.000000  \n",
       "25%      0.000000    0.000000  \n",
       "50%      0.000000    0.000000  \n",
       "75%      1.000000    1.000000  \n",
       "max      3.000000    4.000000  "
      ]
     },
     "execution_count": 7,
     "metadata": {},
     "output_type": "execute_result"
    }
   ],
   "source": [
    "df.describe()"
   ]
  },
  {
   "cell_type": "code",
   "execution_count": 8,
   "id": "1e5fceb4-8c24-4c9e-9a61-bf41c14d62ef",
   "metadata": {},
   "outputs": [],
   "source": [
    "for col in df[['restecg', 'slope', 'thal']]:\n",
    "    df[col].fillna(value='unknown', inplace= True)"
   ]
  },
  {
   "cell_type": "code",
   "execution_count": 9,
   "id": "fbfb4b27-60e2-47d3-8ccc-f692eef9c7a3",
   "metadata": {},
   "outputs": [],
   "source": [
    "for col in df[['trestbps', 'chol', 'thalch', 'oldpeak', 'ca']]:\n",
    "    df[col].fillna(value= df[col].mean(), inplace= True)"
   ]
  },
  {
   "cell_type": "code",
   "execution_count": 10,
   "id": "5e778f68-6bbc-482f-87ac-e1fc437354ef",
   "metadata": {},
   "outputs": [
    {
     "data": {
      "text/plain": [
       "0"
      ]
     },
     "execution_count": 10,
     "metadata": {},
     "output_type": "execute_result"
    }
   ],
   "source": [
    "df.duplicated().sum()"
   ]
  },
  {
   "cell_type": "code",
   "execution_count": 11,
   "id": "5ceb97ba-149b-440b-8aa7-730cda3e41a8",
   "metadata": {},
   "outputs": [
    {
     "name": "stdout",
     "output_type": "stream",
     "text": [
      "<class 'pandas.core.frame.DataFrame'>\n",
      "Index: 662 entries, 0 to 919\n",
      "Data columns (total 16 columns):\n",
      " #   Column    Non-Null Count  Dtype  \n",
      "---  ------    --------------  -----  \n",
      " 0   id        662 non-null    int64  \n",
      " 1   age       662 non-null    int64  \n",
      " 2   sex       662 non-null    object \n",
      " 3   dataset   662 non-null    object \n",
      " 4   cp        662 non-null    object \n",
      " 5   trestbps  662 non-null    float64\n",
      " 6   chol      662 non-null    float64\n",
      " 7   fbs       662 non-null    object \n",
      " 8   restecg   662 non-null    object \n",
      " 9   thalch    662 non-null    float64\n",
      " 10  exang     662 non-null    object \n",
      " 11  oldpeak   662 non-null    float64\n",
      " 12  slope     662 non-null    object \n",
      " 13  ca        662 non-null    float64\n",
      " 14  thal      662 non-null    object \n",
      " 15  num       662 non-null    int64  \n",
      "dtypes: float64(5), int64(3), object(8)\n",
      "memory usage: 87.9+ KB\n"
     ]
    }
   ],
   "source": [
    "df.info()"
   ]
  },
  {
   "cell_type": "code",
   "execution_count": 12,
   "id": "be9f1bb8-8c7b-456b-844c-b6ca14e456a9",
   "metadata": {},
   "outputs": [
    {
     "data": {
      "text/html": [
       "<div>\n",
       "<style scoped>\n",
       "    .dataframe tbody tr th:only-of-type {\n",
       "        vertical-align: middle;\n",
       "    }\n",
       "\n",
       "    .dataframe tbody tr th {\n",
       "        vertical-align: top;\n",
       "    }\n",
       "\n",
       "    .dataframe thead th {\n",
       "        text-align: right;\n",
       "    }\n",
       "</style>\n",
       "<table border=\"1\" class=\"dataframe\">\n",
       "  <thead>\n",
       "    <tr style=\"text-align: right;\">\n",
       "      <th></th>\n",
       "      <th>sex</th>\n",
       "      <th>dataset</th>\n",
       "      <th>cp</th>\n",
       "      <th>fbs</th>\n",
       "      <th>restecg</th>\n",
       "      <th>exang</th>\n",
       "      <th>slope</th>\n",
       "      <th>thal</th>\n",
       "    </tr>\n",
       "  </thead>\n",
       "  <tbody>\n",
       "    <tr>\n",
       "      <th>count</th>\n",
       "      <td>662</td>\n",
       "      <td>662</td>\n",
       "      <td>662</td>\n",
       "      <td>662</td>\n",
       "      <td>662</td>\n",
       "      <td>662</td>\n",
       "      <td>662</td>\n",
       "      <td>662</td>\n",
       "    </tr>\n",
       "    <tr>\n",
       "      <th>unique</th>\n",
       "      <td>2</td>\n",
       "      <td>3</td>\n",
       "      <td>4</td>\n",
       "      <td>2</td>\n",
       "      <td>4</td>\n",
       "      <td>2</td>\n",
       "      <td>4</td>\n",
       "      <td>4</td>\n",
       "    </tr>\n",
       "    <tr>\n",
       "      <th>top</th>\n",
       "      <td>Male</td>\n",
       "      <td>Cleveland</td>\n",
       "      <td>asymptomatic</td>\n",
       "      <td>False</td>\n",
       "      <td>normal</td>\n",
       "      <td>False</td>\n",
       "      <td>flat</td>\n",
       "      <td>unknown</td>\n",
       "    </tr>\n",
       "    <tr>\n",
       "      <th>freq</th>\n",
       "      <td>492</td>\n",
       "      <td>303</td>\n",
       "      <td>333</td>\n",
       "      <td>562</td>\n",
       "      <td>397</td>\n",
       "      <td>412</td>\n",
       "      <td>257</td>\n",
       "      <td>314</td>\n",
       "    </tr>\n",
       "  </tbody>\n",
       "</table>\n",
       "</div>"
      ],
      "text/plain": [
       "         sex    dataset            cp    fbs restecg  exang slope     thal\n",
       "count    662        662           662    662     662    662   662      662\n",
       "unique     2          3             4      2       4      2     4        4\n",
       "top     Male  Cleveland  asymptomatic  False  normal  False  flat  unknown\n",
       "freq     492        303           333    562     397    412   257      314"
      ]
     },
     "execution_count": 12,
     "metadata": {},
     "output_type": "execute_result"
    }
   ],
   "source": [
    "df.describe(exclude= ['int', 'float'])"
   ]
  },
  {
   "cell_type": "code",
   "execution_count": 13,
   "id": "5b31fc40-a030-4ff6-8846-88a3a1aab079",
   "metadata": {},
   "outputs": [
    {
     "data": {
      "image/png": "[encoded data removed]",
      "text/plain": [
       "<Figure size 2400x2400 with 8 Axes>"
      ]
     },
     "metadata": {},
     "output_type": "display_data"
    }
   ],
   "source": [
    "numeric_columns = ['age', 'trestbps', 'trestbps', 'chol', 'thalch', 'oldpeak', 'ca', 'num']\n",
    "\n",
    "fig, axes = plt.subplots(4, 2, figsize=(24,24))\n",
    "fig.suptitle('Describtion Of Numeric Variables', size = 48)\n",
    "\n",
    "for i in range(4):\n",
    "    for n in range(2):\n",
    "        sns.histplot(df[numeric_columns[2*i+n]], ax=axes[i,n])\n",
    "        \n",
    "\n",
    "\n"
   ]
  },
  {
   "cell_type": "code",
   "execution_count": 14,
   "id": "bf7334dc-aa78-474a-8fb2-2e5151259260",
   "metadata": {},
   "outputs": [
    {
     "data": {
      "text/plain": [
       "num\n",
       "0    348\n",
       "1    181\n",
       "2     57\n",
       "3     57\n",
       "4     19\n",
       "Name: count, dtype: int64"
      ]
     },
     "execution_count": 14,
     "metadata": {},
     "output_type": "execute_result"
    }
   ],
   "source": [
    "df.num.value_counts()"
   ]
  },
  {
   "cell_type": "code",
   "execution_count": 15,
   "id": "6d3d774b-956e-493b-9d5c-f8bb70c2b404",
   "metadata": {},
   "outputs": [
    {
     "data": {
      "image/png": "[encoded data removed]",
      "text/plain": [
       "<Figure size 1200x600 with 2 Axes>"
      ]
     },
     "metadata": {},
     "output_type": "display_data"
    }
   ],
   "source": [
    "fig, ax = plt.subplots(1,2, figsize=(12,6))\n",
    "plt.pie(df.num.value_counts(), labels = ['0', '1', '2', '3', '4'], autopct = '%.0f%%')\n",
    "cp = sns.countplot(x= df['num'], ax= ax[0],  )\n",
    "cp.set_xlabel('num')\n",
    "cp.set_ylabel('number of patiant')\n",
    "plt.show()"
   ]
  },
  {
   "cell_type": "code",
   "execution_count": 16,
   "id": "1d137f14-34a7-4f5a-a89e-2181726afe79",
   "metadata": {},
   "outputs": [
    {
     "data": {
      "text/plain": [
       "<Axes: xlabel='age', ylabel='Count'>"
      ]
     },
     "execution_count": 16,
     "metadata": {},
     "output_type": "execute_result"
    },
    {
     "data": {
      "image/png": "[encoded data removed]",
      "text/plain": [
       "<Figure size 700x400 with 1 Axes>"
      ]
     },
     "metadata": {},
     "output_type": "display_data"
    }
   ],
   "source": [
    "plt.figure(figsize=(7,4))\n",
    "sns.histplot(df['age'],kde=True)"
   ]
  },
  {
   "cell_type": "code",
   "execution_count": 17,
   "id": "abdaacf5-d435-4658-99e1-02b70dfd1d86",
   "metadata": {},
   "outputs": [
    {
     "data": {
      "text/plain": [
       "sex     age\n",
       "Female  54     14\n",
       "        51     10\n",
       "        62      8\n",
       "        43      8\n",
       "        58      7\n",
       "               ..\n",
       "Male    33      1\n",
       "        72      1\n",
       "        71      1\n",
       "        28      1\n",
       "        31      1\n",
       "Name: count, Length: 88, dtype: int64"
      ]
     },
     "execution_count": 17,
     "metadata": {},
     "output_type": "execute_result"
    }
   ],
   "source": [
    "df.groupby('sex')['age'].value_counts()\n"
   ]
  },
  {
   "cell_type": "code",
   "execution_count": 18,
   "id": "6e44df32-d80f-4b5f-9e7d-64b5af31ef63",
   "metadata": {},
   "outputs": [
    {
     "data": {
      "text/plain": [
       "<Axes: xlabel='age', ylabel='count'>"
      ]
     },
     "execution_count": 18,
     "metadata": {},
     "output_type": "execute_result"
    },
    {
     "data": {
      "image/png": "[encoded data removed]",
      "text/plain": [
       "<Figure size 1500x400 with 1 Axes>"
      ]
     },
     "metadata": {},
     "output_type": "display_data"
    }
   ],
   "source": [
    "plt.figure(figsize=(15,4))\n",
    "sns.countplot(df, x='age', hue='sex')"
   ]
  },
  {
   "cell_type": "code",
   "execution_count": 19,
   "id": "cfba9230-ade9-4e59-a317-d509b3395607",
   "metadata": {},
   "outputs": [
    {
     "data": {
      "text/plain": [
       "<Axes: xlabel='sex', ylabel='count'>"
      ]
     },
     "execution_count": 19,
     "metadata": {},
     "output_type": "execute_result"
    },
    {
     "data": {
      "image/png": "[encoded data removed]",
      "text/plain": [
       "<Figure size 640x480 with 1 Axes>"
      ]
     },
     "metadata": {},
     "output_type": "display_data"
    }
   ],
   "source": [
    "sns.countplot(data=df,x='sex',color='#87CEFA')"
   ]
  },
  {
   "cell_type": "code",
   "execution_count": 20,
   "id": "6708575a-c44c-4f8c-9164-9329cfe87690",
   "metadata": {},
   "outputs": [
    {
     "data": {
      "text/plain": [
       "Index(['id', 'age', 'sex', 'dataset', 'cp', 'trestbps', 'chol', 'fbs',\n",
       "       'restecg', 'thalch', 'exang', 'oldpeak', 'slope', 'ca', 'thal', 'num'],\n",
       "      dtype='object')"
      ]
     },
     "execution_count": 20,
     "metadata": {},
     "output_type": "execute_result"
    }
   ],
   "source": [
    "df.columns"
   ]
  },
  {
   "cell_type": "code",
   "execution_count": 21,
   "id": "862df2d7-3a99-493e-8583-05cef37bd2d3",
   "metadata": {},
   "outputs": [
    {
     "data": {
      "text/plain": [
       "num\n",
       "0    348\n",
       "1    181\n",
       "2     57\n",
       "3     57\n",
       "4     19\n",
       "Name: count, dtype: int64"
      ]
     },
     "execution_count": 21,
     "metadata": {},
     "output_type": "execute_result"
    }
   ],
   "source": [
    "value_counts = df['num'].value_counts()\n",
    "value_counts"
   ]
  },
  {
   "cell_type": "code",
   "execution_count": 22,
   "id": "5fbbf789-0c00-47dc-b21e-39788d434258",
   "metadata": {},
   "outputs": [],
   "source": [
    "from imblearn.over_sampling import RandomOverSampler\n",
    "\n",
    "input_columns = df.drop('num', axis=1)  \n",
    "\n",
    "class_column = df['num']\n",
    "\n",
    "oversampler = RandomOverSampler(random_state=0)\n",
    "\n",
    "input_columns_resampled, class_column_resampled = oversampler.fit_resample(input_columns, class_column)\n",
    "\n",
    "df = pd.concat([input_columns_resampled, class_column_resampled], axis=1)"
   ]
  },
  {
   "cell_type": "code",
   "execution_count": 23,
   "id": "af6af51d-5705-45bb-a3ec-5bac40a08d53",
   "metadata": {},
   "outputs": [
    {
     "data": {
      "text/plain": [
       "num\n",
       "0    348\n",
       "2    348\n",
       "1    348\n",
       "3    348\n",
       "4    348\n",
       "Name: count, dtype: int64"
      ]
     },
     "execution_count": 23,
     "metadata": {},
     "output_type": "execute_result"
    }
   ],
   "source": [
    "class_distribution = df['num'].value_counts()\n",
    "class_distribution"
   ]
  },
  {
   "cell_type": "code",
   "execution_count": 24,
   "id": "625baaee-2390-41d6-a15d-bd99ecc2a70f",
   "metadata": {},
   "outputs": [
    {
     "data": {
      "image/png": "[encoded data removed]",
      "text/plain": [
       "<Figure size 640x480 with 1 Axes>"
      ]
     },
     "metadata": {},
     "output_type": "display_data"
    }
   ],
   "source": [
    "value_counts = df['num'].value_counts()\n",
    "\n",
    "labels = value_counts.index\n",
    "\n",
    "counts = value_counts.values\n",
    "\n",
    "plt.pie(counts, labels=labels, autopct='%1.1f%%')\n",
    "\n",
    "plt.title('Distribution of num')\n",
    "\n",
    "plt.show()"
   ]
  },
  {
   "cell_type": "code",
   "execution_count": 25,
   "id": "54543cde-b78b-4703-9ceb-a526b7bc3f72",
   "metadata": {},
   "outputs": [
    {
     "name": "stdout",
     "output_type": "stream",
     "text": [
      "[[63 'Male' 'Cleveland' ... 'downsloping' 0.0 'fixed defect']\n",
      " [67 'Male' 'Cleveland' ... 'flat' 3.0 'normal']\n",
      " [67 'Male' 'Cleveland' ... 'flat' 2.0 'reversable defect']\n",
      " ...\n",
      " [61 'Male' 'Cleveland' ... 'flat' 1.0 'normal']\n",
      " [65 'Male' 'VA Long Beach' ... 'downsloping' 0.6677740863787376\n",
      "  'unknown']\n",
      " [62 'Male' 'VA Long Beach' ... 'flat' 0.6677740863787376 'unknown']]\n"
     ]
    }
   ],
   "source": [
    "x = df.iloc[:, 1:15].values\n",
    "print(x)"
   ]
  },
  {
   "cell_type": "code",
   "execution_count": 26,
   "id": "684061ff-3414-4e31-ace8-77c1cb9000cc",
   "metadata": {},
   "outputs": [
    {
     "name": "stdout",
     "output_type": "stream",
     "text": [
      "[0 2 1 ... 4 4 4]\n"
     ]
    }
   ],
   "source": [
    "y = df.iloc[:, 15].values\n",
    "print(y)"
   ]
  },
  {
   "cell_type": "code",
   "execution_count": 27,
   "id": "7165efa9-075e-4cd1-87f5-6f3e07201007",
   "metadata": {},
   "outputs": [],
   "source": [
    "from sklearn.preprocessing import LabelEncoder\n",
    "\n",
    "labelencoder_sex = LabelEncoder()\n",
    "x[:, 1] = labelencoder_sex.fit_transform(x[:, 1])\n",
    "\n",
    "labelencoder_fbs = LabelEncoder()\n",
    "x[:, 6] = labelencoder_fbs.fit_transform(x[:, 6])\n",
    "\n",
    "labelencoder_exang = LabelEncoder()\n",
    "x[:, 9] = labelencoder_exang.fit_transform(x[:, 9])"
   ]
  },
  {
   "cell_type": "code",
   "execution_count": 28,
   "id": "e98c9d14-f855-42be-9047-9133a9c46150",
   "metadata": {},
   "outputs": [
    {
     "name": "stdout",
     "output_type": "stream",
     "text": [
      "[1 1 1 ... 1 1 1]\n",
      "[1 0 0 ... 0 0 1]\n"
     ]
    }
   ],
   "source": [
    "print(x[:, 1])\n",
    "print(x[:, 6])"
   ]
  },
  {
   "cell_type": "code",
   "execution_count": 29,
   "id": "e1966172-8efb-48ce-aa19-1249ec73c54a",
   "metadata": {},
   "outputs": [
    {
     "name": "stdout",
     "output_type": "stream",
     "text": [
      "['False' 'True']\n"
     ]
    },
    {
     "data": {
      "text/plain": [
       "['exang_label_encoder.pkl']"
      ]
     },
     "execution_count": 29,
     "metadata": {},
     "output_type": "execute_result"
    }
   ],
   "source": [
    "from joblib import dump\n",
    "\n",
    "data = [\"True\", \"False\"]\n",
    "\n",
    "labelencoder_exang = LabelEncoder()\n",
    "labelencoder_exang.fit(data)\n",
    "print(labelencoder_exang.classes_)\n",
    "\n",
    "dump(labelencoder_exang, \"exang_label_encoder.pkl\")"
   ]
  },
  {
   "cell_type": "code",
   "execution_count": 30,
   "id": "bab19b3a-a79b-4339-8ed2-cbe4e02a9972",
   "metadata": {},
   "outputs": [
    {
     "name": "stdout",
     "output_type": "stream",
     "text": [
      "['False' 'True']\n"
     ]
    },
    {
     "data": {
      "text/plain": [
       "['fbs_label_encoder.pkl']"
      ]
     },
     "execution_count": 30,
     "metadata": {},
     "output_type": "execute_result"
    }
   ],
   "source": [
    "\n",
    "data = [\"True\", \"False\"]\n",
    "\n",
    "labelencoder_fbs = LabelEncoder()\n",
    "labelencoder_fbs.fit(data)\n",
    "print(labelencoder_fbs.classes_)\n",
    "\n",
    "dump(labelencoder_fbs, \"fbs_label_encoder.pkl\")"
   ]
  },
  {
   "cell_type": "code",
   "execution_count": 31,
   "id": "a330a6d8-5d71-4e1d-aa18-77c0d4ee5fc1",
   "metadata": {},
   "outputs": [
    {
     "name": "stdout",
     "output_type": "stream",
     "text": [
      "['False' 'True']\n"
     ]
    }
   ],
   "source": [
    "print(labelencoder_fbs.classes_)  # عرض القيم التي تم تدريب LabelEncoder عليها\n"
   ]
  },
  {
   "cell_type": "code",
   "execution_count": 32,
   "id": "1d81d512-70d6-4166-9090-003484699187",
   "metadata": {},
   "outputs": [
    {
     "name": "stdout",
     "output_type": "stream",
     "text": [
      "['Cleveland' 'Hungary' 'VA Long Beach']\n"
     ]
    }
   ],
   "source": [
    "\n",
    "distinct_values = np.unique(x[:, 2])\n",
    "print(distinct_values)"
   ]
  },
  {
   "cell_type": "code",
   "execution_count": 33,
   "id": "4c11bb49-b1a9-4b7f-9db5-f2e10bd70765",
   "metadata": {},
   "outputs": [
    {
     "data": {
      "text/plain": [
       "array([[1.0, 0.0, 0.0, ..., 0, 2.3, 0.0],\n",
       "       [1.0, 0.0, 0.0, ..., 1, 1.5, 3.0],\n",
       "       [1.0, 0.0, 0.0, ..., 1, 2.6, 2.0],\n",
       "       ...,\n",
       "       [1.0, 0.0, 0.0, ..., 1, 3.6, 1.0],\n",
       "       [0.0, 0.0, 1.0, ..., 1, 4.0, 0.6677740863787376],\n",
       "       [0.0, 0.0, 1.0, ..., 1, 3.0, 0.6677740863787376]], dtype=object)"
      ]
     },
     "execution_count": 33,
     "metadata": {},
     "output_type": "execute_result"
    }
   ],
   "source": [
    "from sklearn.compose import ColumnTransformer\n",
    "from sklearn.preprocessing import OneHotEncoder\n",
    "\n",
    "ct = ColumnTransformer(\n",
    "    transformers=[('encoder', OneHotEncoder(categories='auto'), [2, 3, 7, 11, -1])],\n",
    "    remainder='passthrough')\n",
    "\n",
    "x= ct.fit_transform(x)\n",
    "\n",
    "x"
   ]
  },
  {
   "cell_type": "code",
   "execution_count": null,
   "id": "2dc89a1e-26d0-4949-ab34-6eae0028c9b3",
   "metadata": {},
   "outputs": [],
   "source": []
  },
  {
   "cell_type": "code",
   "execution_count": 34,
   "id": "21cc6c80-c265-4722-a52a-da4cda8780fd",
   "metadata": {},
   "outputs": [],
   "source": [
    "from sklearn.model_selection import train_test_split\n",
    "\n",
    "X_train, X_test, y_train, y_test = train_test_split(x, y, random_state = 0)"
   ]
  },
  {
   "cell_type": "code",
   "execution_count": 35,
   "id": "57137ab7-744c-4506-b94a-1112a72b045f",
   "metadata": {},
   "outputs": [],
   "source": [
    "from sklearn.preprocessing import StandardScaler\n",
    "from sklearn.linear_model import LogisticRegression\n",
    "from sklearn.metrics import accuracy_score\n",
    "\n",
    "scaler = StandardScaler()\n",
    "X_train_scaled = scaler.fit_transform(X_train)\n",
    "X_test_scaled = scaler.transform(X_test)\n"
   ]
  },
  {
   "cell_type": "code",
   "execution_count": 36,
   "id": "b1e8d03f-5f70-4f9b-8917-3bc32bf2c23d",
   "metadata": {},
   "outputs": [],
   "source": [
    "X_train, X_test, y_train, y_test = train_test_split(x, y, test_size=0.2, random_state=42)\n"
   ]
  },
  {
   "cell_type": "code",
   "execution_count": 37,
   "id": "c4d8cadd-7fd3-4cfd-9dbc-3ab9e9f9d1ea",
   "metadata": {},
   "outputs": [],
   "source": [
    "    def map_health_status(num_value):\n",
    "        if num_value == 0:\n",
    "            return \"Condition improves\"\n",
    "        elif num_value == 1:\n",
    "            return \"stability\"\n",
    "        elif num_value == 2:\n",
    "            return \"Mild deterioration\"\n",
    "        elif num_value == 3:\n",
    "            return \"Moderate deterioration\"\n",
    "        elif num_value == 4:\n",
    "            return \"Serious deterioration\"\n",
    "        else:\n",
    "            return \"unknown\""
   ]
  },
  {
   "cell_type": "code",
   "execution_count": 38,
   "id": "7a755f8d-d20c-46b5-9585-bdab51b86480",
   "metadata": {},
   "outputs": [
    {
     "name": "stdout",
     "output_type": "stream",
     "text": [
      "Accuracy: 91.38%\n"
     ]
    }
   ],
   "source": [
    "from sklearn.ensemble import RandomForestClassifier\n",
    "from sklearn.metrics import accuracy_score\n",
    "\n",
    "X_train, X_test, y_train, y_test = train_test_split(x, y, test_size=0.2, random_state=42)\n",
    "\n",
    "\n",
    "model = RandomForestClassifier(n_estimators=100, random_state=42)\n",
    "model.fit(X_train, y_train)\n",
    "\n",
    "y_pred_numeric = model.predict(X_test)\n",
    "y_pred_text = [map_health_status(value) for value in y_pred_numeric]\n",
    "\n",
    "accuracy = accuracy_score(y_test, y_pred_numeric)\n",
    "print(f'Accuracy: {accuracy * 100:.2f}%')\n"
   ]
  },
  {
   "cell_type": "code",
   "execution_count": 39,
   "id": "61b88d10-a15b-4e50-a4f2-8c26c1b89b5d",
   "metadata": {},
   "outputs": [
    {
     "name": "stdout",
     "output_type": "stream",
     "text": [
      "Precision: 91.54%\n",
      "Recall: 91.84%\n",
      "F1 Score: 91.63%\n"
     ]
    }
   ],
   "source": [
    "from sklearn.metrics import precision_score, recall_score, f1_score\n",
    "\n",
    "precision = precision_score(y_test, y_pred_numeric, average='macro')  # يمكنك تجربة 'micro' أو 'weighted' أيضًا\n",
    "recall = recall_score(y_test, y_pred_numeric, average='macro')\n",
    "f1 = f1_score(y_test, y_pred_numeric, average='macro')\n",
    "\n",
    "print('Precision: {:.2f}%'.format(100 * precision))\n",
    "print('Recall: {:.2f}%'.format(100 * recall))\n",
    "print('F1 Score: {:.2f}%'.format(100 * f1))\n"
   ]
  },
  {
   "cell_type": "code",
   "execution_count": 40,
   "id": "37898785-fc99-4a4d-999c-85d6740aca2d",
   "metadata": {},
   "outputs": [
    {
     "data": {
      "text/plain": [
       "<Axes: >"
      ]
     },
     "execution_count": 40,
     "metadata": {},
     "output_type": "execute_result"
    },
    {
     "data": {
      "image/png": "[encoded data removed]",
      "text/plain": [
       "<Figure size 640x480 with 2 Axes>"
      ]
     },
     "metadata": {},
     "output_type": "display_data"
    }
   ],
   "source": [
    "from sklearn.metrics import confusion_matrix\n",
    "\n",
    "cf_matrix = confusion_matrix(y_test, y_pred_numeric)\n",
    "\n",
    "import seaborn as sns\n",
    "sns.heatmap(cf_matrix, annot=True)"
   ]
  },
  {
   "cell_type": "code",
   "execution_count": 41,
   "id": "a647c537-6e72-43ea-9c5d-a39c374c5123",
   "metadata": {},
   "outputs": [],
   "source": [
    "from sklearn.ensemble import RandomForestClassifier\n",
    "\n",
    "class Model:\n",
    "    def __init__(self):\n",
    "        self.model = RandomForestClassifier()\n",
    "\n",
    "    def train(self, X_train, y_train):\n",
    "        self.model.fit(X_train, y_train)\n",
    "\n",
    "    def predict(self, X_input):\n",
    "        predicted_num = self.model.predict(X_input)\n",
    "        return [self.map_health_status(value) for value in predicted_num]\n",
    "\n",
    "    def map_health_status(self, num_value):\n",
    "        if num_value == 0:\n",
    "            return \"Condition improves\"\n",
    "        elif num_value == 1:\n",
    "            return \"stability\"\n",
    "        elif num_value == 2:\n",
    "            return \"Mild deterioration\"\n",
    "        elif num_value == 3:\n",
    "            return \"Moderate deterioration\"\n",
    "        elif num_value == 4:\n",
    "            return \"Serious deterioration\"\n",
    "        else:\n",
    "            return \"unknown\"\n",
    "\n",
    "model = Model()\n",
    "model.train(X_train, y_train)\n"
   ]
  },
  {
   "cell_type": "code",
   "execution_count": 42,
   "id": "15d577cc-521f-4dbc-a4d7-500b6b178c63",
   "metadata": {},
   "outputs": [],
   "source": [
    "import pickle\n",
    "\n",
    "filename = 'classification_model.pkl'\n",
    "with open(filename, 'wb') as file:\n",
    "    pickle.dump(model, file)\n"
   ]
  },
  {
   "cell_type": "code",
   "execution_count": 43,
   "id": "18e3d1bb-28b3-40bc-9461-bc0020d9f250",
   "metadata": {},
   "outputs": [],
   "source": [
    "import pickle\n",
    "\n",
    "filename = 'classification_model.pkl'\n",
    "with open(filename, 'rb') as file:\n",
    "    model = pickle.load(file)\n"
   ]
  },
  {
   "cell_type": "code",
   "execution_count": 44,
   "id": "ee4461ab-82c5-482a-907b-f37f4a1e199d",
   "metadata": {},
   "outputs": [
    {
     "data": {
      "text/plain": [
       "['exang_label_encoder.pkl']"
      ]
     },
     "execution_count": 44,
     "metadata": {},
     "output_type": "execute_result"
    }
   ],
   "source": [
    "from joblib import dump\n",
    "\n",
    "dump(labelencoder_sex, \"sex_label_encoder.pkl\")\n",
    "dump(labelencoder_fbs, \"fbs_label_encoder.pkl\")\n",
    "dump(labelencoder_exang, \"exang_label_encoder.pkl\")"
   ]
  },
  {
   "cell_type": "code",
   "execution_count": 45,
   "id": "4b2cd8fa-c769-4133-9959-bbfa329128a0",
   "metadata": {},
   "outputs": [
    {
     "data": {
      "text/plain": [
       "['ct_column_transformer.pkl']"
      ]
     },
     "execution_count": 45,
     "metadata": {},
     "output_type": "execute_result"
    }
   ],
   "source": [
    "from joblib import dump\n",
    "\n",
    "dump(ct, \"ct_column_transformer.pkl\")"
   ]
  },
  {
   "cell_type": "code",
   "execution_count": 46,
   "id": "7a18119f-df77-4e60-a2b5-aa28d18cbb63",
   "metadata": {},
   "outputs": [
    {
     "data": {
      "text/plain": [
       "['standard_scaler.pkl']"
      ]
     },
     "execution_count": 46,
     "metadata": {},
     "output_type": "execute_result"
    }
   ],
   "source": [
    "from joblib import dump\n",
    "\n",
    "dump(scaler, \"standard_scaler.pkl\")"
   ]
  },
  {
   "cell_type": "code",
   "execution_count": 47,
   "id": "b747e58c-e59a-4f26-9e11-1fd916494093",
   "metadata": {},
   "outputs": [],
   "source": [
    "new_patient = np.array( [[56, 'Female', 'Cleveland', 'typical angina', 130, 236, 'True' , 'normal', 150, 'False', 1.4, 'flat',  2, 'fixed defect']])"
   ]
  },
  {
   "cell_type": "code",
   "execution_count": 48,
   "id": "40a44fed-639b-4a56-a3da-1d68ef25f2bb",
   "metadata": {},
   "outputs": [],
   "source": [
    "from joblib import load\n",
    "\n",
    "labelencoder_sex_loaded=load(\"sex_label_encoder.pkl\")\n",
    "labelencoder_fbs_loaded=load(\"fbs_label_encoder.pkl\")\n",
    "labelencoder_exang_loaded=load(\"exang_label_encoder.pkl\")\n",
    "\n",
    "\n",
    "\n",
    "new_patient[:, 1] = labelencoder_sex_loaded.transform(new_patient[:, 1])\n",
    "new_patient[:, 6] = labelencoder_fbs_loaded.transform(new_patient[:, 6])\n",
    "new_patient[:, 9] = labelencoder_exang_loaded.transform(new_patient[:, 9])"
   ]
  },
  {
   "cell_type": "code",
   "execution_count": 49,
   "id": "8deb8c3f-f993-4382-8633-dbd566987f7e",
   "metadata": {},
   "outputs": [],
   "source": [
    "from joblib import load\n",
    "\n",
    "ct_loaded = load(\"ct_column_transformer.pkl\")\n",
    "\n",
    "new_patient = ct.transform(new_patient)"
   ]
  },
  {
   "cell_type": "code",
   "execution_count": 50,
   "id": "c338e392-b6e7-4d05-9628-007e9f3e9339",
   "metadata": {
    "scrolled": true
   },
   "outputs": [
    {
     "name": "stdout",
     "output_type": "stream",
     "text": [
      "[[ 0.93397532 -0.50358942 -0.59829797 -1.59266612 -0.33968311 -0.39223227\n",
      "   4.55521679 -0.70223572  1.05111308 -0.48558774 -0.06201737 -0.39093075\n",
      "   0.96757521 -0.49040218 -0.43169855  3.45265001 -0.43044872 -0.74651138\n",
      "  -0.83091185 -0.06190933 -2.18502547 -0.35496599 -0.21882327  1.95333002\n",
      "   0.66179113 -1.12151035 -0.08115787  1.25060704]]\n"
     ]
    }
   ],
   "source": [
    "from joblib import load\n",
    "\n",
    "sc_loaded = load(\"standard_scaler.pkl\")\n",
    "\n",
    "new_patient = sc_loaded.transform(new_patient)\n",
    "print(new_patient)"
   ]
  },
  {
   "cell_type": "code",
   "execution_count": 51,
   "id": "9dbc5350-94bd-4ce7-8938-6e69bd737c3a",
   "metadata": {},
   "outputs": [],
   "source": [
    "from joblib import load\n",
    "\n",
    "model = load('classification_model.pkl')\n"
   ]
  },
  {
   "cell_type": "code",
   "execution_count": 52,
   "id": "98e3ef59-b106-44aa-b69a-4516c7decf44",
   "metadata": {},
   "outputs": [],
   "source": [
    "import pickle\n",
    "\n",
    "with open('classification_model.pkl', 'rb') as file:\n",
    "    model = pickle.load(file)"
   ]
  },
  {
   "cell_type": "code",
   "execution_count": 111,
   "id": "e8d34b48-5ef6-4f33-986b-8629fe0b12d0",
   "metadata": {},
   "outputs": [
    {
     "name": "stdout",
     "output_type": "stream",
     "text": [
      "Predicted class: Condition improves\n"
     ]
    }
   ],
   "source": [
    "pred_class = model.predict(new_patient)\n",
    "print('Predicted class:', pred_class[0])\n"
   ]
  },
  {
   "cell_type": "code",
   "execution_count": null,
   "id": "ed647318-0ff2-459d-8411-116420dbdf83",
   "metadata": {},
   "outputs": [],
   "source": [
    "\n"
   ]
  },
  {
   "cell_type": "code",
   "execution_count": null,
   "id": "3678d7d0-4468-4677-a52b-3567104a55cd",
   "metadata": {},
   "outputs": [],
   "source": []
  },
  {
   "cell_type": "code",
   "execution_count": null,
   "id": "919b0915-58f3-4f1f-bd62-912b137fb5f4",
   "metadata": {},
   "outputs": [],
   "source": []
  }
 ],
 "metadata": {
  "kernelspec": {
   "display_name": "Python 3 (ipykernel)",
   "language": "python",
   "name": "python3"
  },
  "language_info": {
   "codemirror_mode": {
    "name": "ipython",
    "version": 3
   },
   "file_extension": ".py",
   "mimetype": "text/x-python",
   "name": "python",
   "nbconvert_exporter": "python",
   "pygments_lexer": "ipython3",
   "version": "3.11.7"
  }
 },
 "nbformat": 4,
 "nbformat_minor": 5
}
